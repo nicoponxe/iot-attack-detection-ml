{
 "cells": [
  {
   "cell_type": "code",
   "execution_count": 1,
   "id": "4217fa4c-6077-48d5-a135-5cbd4c20d306",
   "metadata": {},
   "outputs": [],
   "source": [
    "from sklearn.preprocessing import MinMaxScaler\n",
    "import pandas as pd\n",
    "import numpy as np\n",
    "import matplotlib.pyplot as plt\n",
    "import seaborn as sns"
   ]
  },
  {
   "cell_type": "code",
   "execution_count": null,
   "id": "2e456e21-7e29-4d26-b1f1-33657a349c19",
   "metadata": {},
   "outputs": [],
   "source": [
    "df_attacks_multiclass = pd.read_csv('dataset/attacks-multiclass.csv', index_col=0)"
   ]
  },
  {
   "cell_type": "code",
   "execution_count": null,
   "id": "3b36f1a4-7215-4d9f-8b60-71eeac397923",
   "metadata": {},
   "outputs": [],
   "source": [
    "df_attacks_multiclass.head(10)"
   ]
  },
  {
   "cell_type": "markdown",
   "id": "ac4e7f8b-8339-4fff-91c6-e541e4d8c561",
   "metadata": {},
   "source": [
    "#### Label Encoding for Multiclass Classification Labels "
   ]
  },
  {
   "cell_type": "code",
   "execution_count": null,
   "id": "3511abde-e6ea-4e6b-acc3-90aa96d9edd9",
   "metadata": {},
   "outputs": [],
   "source": [
    "from sklearn.preprocessing import LabelEncoder\n",
    "\n",
    "# Initialize the label encoder\n",
    "label_encoder = LabelEncoder()\n",
    "\n",
    "# Fit the encoder to the existing labels and transform them\n",
    "df_attacks_multiclass['label'] = label_encoder.fit_transform(df_attacks_multiclass['label'])"
   ]
  },
  {
   "cell_type": "code",
   "execution_count": null,
   "id": "01a35090-0683-451d-8109-26ff92ecfab8",
   "metadata": {},
   "outputs": [],
   "source": [
    "df_attacks_multiclass.head(10)"
   ]
  },
  {
   "cell_type": "markdown",
   "id": "29c792b0-961b-4c4f-bc74-7889129459c1",
   "metadata": {},
   "source": [
    "#### Data Preprocessing and Train-Validation-Test Splitting for Multiclass Classification"
   ]
  },
  {
   "cell_type": "code",
   "execution_count": null,
   "id": "a651f540-f9ca-4f84-b548-03f03144a2fd",
   "metadata": {},
   "outputs": [],
   "source": [
    "from sklearn.model_selection import train_test_split\n",
    "\n",
    "# Separate features (X) and labels (y)\n",
    "X = df_attacks_multiclass.drop(columns=['label']) \n",
    "y = df_attacks_multiclass['label']\n",
    "\n",
    "# Split into training and temporary set (70% training, 30% temp)\n",
    "X_train, X_temp, y_train, y_temp = train_test_split(X, y, test_size=0.3, random_state=4, stratify=y)\n",
    "\n",
    "# Split the temporary set into testing and validation sets (50% testing, 50% validation). Final is 70%-15%-15%\n",
    "X_test, X_val, y_test, y_val = train_test_split(X_temp, y_temp, test_size=0.5, random_state=4, stratify=y_temp)\n",
    "\n",
    "print(\"Shape of X_train:\", X_train.shape)\n",
    "print(\"Shape of X_val:\", X_val.shape)\n",
    "print(\"Shape of X_test:\", X_test.shape)\n",
    "print(\"Shape of y_train:\", y_train.shape)\n",
    "print(\"Shape of y_val:\", y_val.shape)\n",
    "print(\"Shape of y_test:\", y_test.shape)\n"
   ]
  },
  {
   "cell_type": "markdown",
   "id": "9df262eb-18db-47ed-807b-e53061c67b5e",
   "metadata": {},
   "source": [
    "#### Normalization"
   ]
  },
  {
   "cell_type": "markdown",
   "id": "5527792d-86d2-4e17-9129-8915bb946828",
   "metadata": {},
   "source": [
    "Min-Max Scaling: Scales the values so they fall within a defined range (0 and 1). The formula is:\n",
    "$$\\frac{x - \\min(x)}{\\max(x) - \\min(x)}$$ "
   ]
  },
  {
   "cell_type": "markdown",
   "id": "28777693-6ea7-4487-95f6-a87583bc99a9",
   "metadata": {},
   "source": [
    "Adjust the numerical values in the dataset to a common scale without distorting differences in the ranges of values.\n",
    "\n",
    "This is going to be implemented after splitting the data to prevent bias."
   ]
  },
  {
   "cell_type": "code",
   "execution_count": null,
   "id": "90632f8a-5d7d-42a4-87e2-28bce1d4ca61",
   "metadata": {},
   "outputs": [],
   "source": [
    "from sklearn.preprocessing import MinMaxScaler\n",
    "\n",
    "# Initialize the MinMaxScaler\n",
    "scaler = MinMaxScaler()\n",
    "\n",
    "# Fit the scaler to the training data and transform it\n",
    "X_train_scaled = scaler.fit_transform(X_train)\n",
    "\n",
    "# Transform the validation and test data using the same scaler\n",
    "X_val_scaled = scaler.transform(X_val)\n",
    "X_test_scaled = scaler.transform(X_test)"
   ]
  },
  {
   "cell_type": "markdown",
   "id": "42998bbf-4146-423c-bac1-8ff0e6da3fc8",
   "metadata": {},
   "source": [
    "### Models Implementation"
   ]
  },
  {
   "cell_type": "markdown",
   "id": "c8a9aa0a-aab6-4fd9-8486-8b63f9fe3557",
   "metadata": {},
   "source": [
    "#### XGBoost"
   ]
  },
  {
   "cell_type": "code",
   "execution_count": null,
   "id": "75c78b5b-0838-4471-a287-dda220cdf99c",
   "metadata": {},
   "outputs": [],
   "source": [
    "import xgboost as xgb\n",
    "from sklearn.metrics import accuracy_score\n",
    "import matplotlib.pyplot as plt\n",
    "import seaborn as sns\n",
    "from sklearn.metrics import confusion_matrix\n",
    "\n",
    "# Define XGBoost parameters\n",
    "params = {\n",
    "    'objective': 'multi:softmax',  # SoftMax\n",
    "    'num_class': len(df_attacks_multiclass['label'].unique()),  # Number of classes\n",
    "    'eval_metric': 'merror'  # Evaluation metric: multiclass classification error rate\n",
    "}\n",
    "\n",
    "# Convert data to DMatrix format\n",
    "dtrain = xgb.DMatrix(X_train_scaled, label=y_train)\n",
    "dval = xgb.DMatrix(X_val_scaled, label=y_val)\n",
    "\n",
    "# Train XGBoost model\n",
    "num_rounds = 100\n",
    "model = xgb.train(params, dtrain, num_rounds)\n",
    "\n",
    "# Predict on the validation set\n",
    "y_val_pred = model.predict(dval)\n",
    "\n",
    "# Calculate accuracy on the validation set\n",
    "accuracy = accuracy_score(y_val, y_val_pred)\n",
    "print(\"Validation Accuracy:\", accuracy)"
   ]
  },
  {
   "cell_type": "code",
   "execution_count": null,
   "id": "2dbc8735-131c-4a55-b09b-bb7b6dc32be3",
   "metadata": {},
   "outputs": [],
   "source": [
    "# Generate confusion matrix\n",
    "conf_matrix = confusion_matrix(y_val, y_val_pred)\n",
    "\n",
    "# Plot confusion matrix\n",
    "plt.figure(figsize=(8, 6))\n",
    "sns.heatmap(conf_matrix, annot=True, fmt='d', cmap='Blues', xticklabels=label_encoder.classes_, yticklabels=label_encoder.classes_)\n",
    "plt.xlabel('Predicted Labels')\n",
    "plt.ylabel('True Labels')\n",
    "plt.title('Confusion Matrix')\n",
    "plt.show()"
   ]
  }
 ],
 "metadata": {
  "kernelspec": {
   "display_name": "Python 3 (ipykernel)",
   "language": "python",
   "name": "python3"
  },
  "language_info": {
   "codemirror_mode": {
    "name": "ipython",
    "version": 3
   },
   "file_extension": ".py",
   "mimetype": "text/x-python",
   "name": "python",
   "nbconvert_exporter": "python",
   "pygments_lexer": "ipython3",
   "version": "3.11.3"
  }
 },
 "nbformat": 4,
 "nbformat_minor": 5
}
